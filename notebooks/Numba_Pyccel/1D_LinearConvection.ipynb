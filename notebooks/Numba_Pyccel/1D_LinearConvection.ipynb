{
  "nbformat": 4,
  "nbformat_minor": 0,
  "metadata": {
    "kernelspec": {
      "display_name": "Python 3",
      "language": "python",
      "name": "python3"
    },
    "language_info": {
      "codemirror_mode": {
        "name": "ipython",
        "version": 3
      },
      "file_extension": ".py",
      "mimetype": "text/x-python",
      "name": "python",
      "nbconvert_exporter": "python",
      "pygments_lexer": "ipython3",
      "version": "3.7.6"
    },
    "colab": {
      "name": "1D_LinearConvection.ipynb",
      "provenance": [],
      "collapsed_sections": [],
      "toc_visible": true
    }
  },
  "cells": [
    {
      "cell_type": "markdown",
      "metadata": {
        "id": "Vl4_wqyRp-kq"
      },
      "source": [
        "## Imports"
      ]
    },
    {
      "cell_type": "code",
      "metadata": {
        "id": "5xBELtNjp-k7"
      },
      "source": [
        "import numpy as np\n",
        "import matplotlib.pyplot as plt\n",
        "from mpl_toolkits.mplot3d import Axes3D\n",
        "\n",
        "import time\n",
        "from numba import njit\n",
        "from pyccel.epyccel import epyccel\n",
        "from pyccel.decorators import types\n",
        "\n",
        "#fill the imports"
      ],
      "execution_count": null,
      "outputs": []
    },
    {
      "cell_type": "code",
      "metadata": {
        "id": "T_cN5RZwp-k-"
      },
      "source": [
        "#--ipyccel/--pyccel"
      ],
      "execution_count": null,
      "outputs": []
    },
    {
      "cell_type": "code",
      "metadata": {
        "colab": {
          "base_uri": "https://localhost:8080/"
        },
        "id": "moJuMbQ2p-k_",
        "outputId": "9a5b2e7a-8d1a-4dd3-f156-964c08ff63d2"
      },
      "source": [
        "!pip install pyccel==1.1.0"
      ],
      "execution_count": null,
      "outputs": [
        {
          "output_type": "stream",
          "text": [
            "Collecting pyccel==1.1.0\n",
            "\u001b[?25l  Downloading https://files.pythonhosted.org/packages/7e/8d/8986f5317f6c34671aef208b82c0e8b2a59387cede29f812dedd9f74bba6/pyccel-1.1.0-py3-none-any.whl (255kB)\n",
            "\u001b[K     |████████████████████████████████| 256kB 5.3MB/s \n",
            "\u001b[?25hRequirement already satisfied: numpy in /usr/local/lib/python3.7/dist-packages (from pyccel==1.1.0) (1.19.5)\n",
            "Collecting textx>=1.6\n",
            "\u001b[?25l  Downloading https://files.pythonhosted.org/packages/1e/4d/ca516d5600744166c3e1d2f8ff8d2483cda7193c37c534710cbe073c6d44/textX-2.3.0-py2.py3-none-any.whl (72kB)\n",
            "\u001b[K     |████████████████████████████████| 81kB 3.6MB/s \n",
            "\u001b[?25hRequirement already satisfied: termcolor in /usr/local/lib/python3.7/dist-packages (from pyccel==1.1.0) (1.1.0)\n",
            "Requirement already satisfied: sympy>=1.2 in /usr/local/lib/python3.7/dist-packages (from pyccel==1.1.0) (1.7.1)\n",
            "Collecting Arpeggio>=1.9.0\n",
            "\u001b[?25l  Downloading https://files.pythonhosted.org/packages/23/53/17533fe707ee55f562138bfa5255427fa44728f5764fd95cd122fe20346b/Arpeggio-1.10.1-py2.py3-none-any.whl (54kB)\n",
            "\u001b[K     |████████████████████████████████| 61kB 3.9MB/s \n",
            "\u001b[?25hRequirement already satisfied: mpmath>=0.19 in /usr/local/lib/python3.7/dist-packages (from sympy>=1.2->pyccel==1.1.0) (1.2.1)\n",
            "Installing collected packages: Arpeggio, textx, pyccel\n",
            "Successfully installed Arpeggio-1.10.1 pyccel-1.1.0 textx-2.3.0\n"
          ],
          "name": "stdout"
        }
      ]
    },
    {
      "cell_type": "code",
      "metadata": {
        "colab": {
          "base_uri": "https://localhost:8080/"
        },
        "id": "dwPwRdrHp-lC",
        "outputId": "120e3571-bf32-4d45-ec97-1e10f63b8ee5"
      },
      "source": [
        "!pyccel --version"
      ],
      "execution_count": null,
      "outputs": [
        {
          "output_type": "stream",
          "text": [
            "pyccel 1.1.0 from /usr/local/lib/python3.7/dist-packages/pyccel (python 3.7)\n"
          ],
          "name": "stdout"
        }
      ]
    },
    {
      "cell_type": "markdown",
      "metadata": {
        "id": "bUZk6LT8p-lD"
      },
      "source": [
        "## Pure python function"
      ]
    },
    {
      "cell_type": "code",
      "metadata": {
        "colab": {
          "base_uri": "https://localhost:8080/",
          "height": 70
        },
        "id": "jdNxcw6dp-lE",
        "outputId": "3c2ed84f-ea32-4cc8-8b8b-5ef5de3d15e6"
      },
      "source": [
        "def solve_1d_linearconv_pure(u, un, nt, nx, dt, dx, c):\n",
        "\n",
        "    for n in range(nt):\n",
        "        for i in range(nx):\n",
        "            un[i]=u[i]\n",
        "        for i in range(1,nx):\n",
        "            u[i]=un[i]-c*dt/dx*(un[i]-un[i-1])\n",
        "    return 0\n",
        "\"\"\"quand je fais le v=u si change u le v va changer c pour ca en python \n",
        "on fait v=u.copy mais ça ave les calculs ça consomme \n",
        "c pour ca on fait soit une boucle for \n",
        "ou vectorisation ou le slicing :\n",
        "u[:]=v[:]\n",
        "\"\"\""
      ],
      "execution_count": null,
      "outputs": [
        {
          "output_type": "execute_result",
          "data": {
            "application/vnd.google.colaboratory.intrinsic+json": {
              "type": "string"
            },
            "text/plain": [
              "'quand je fais le v=u si change u le v va changer c pour ca en python \\non fait v=u.copy mais ça ave les calculs ça consomme \\nc pour ca on fait soit une boucle for \\nou vectorisation ou le slicing :\\nu[:]=v[:]\\n'"
            ]
          },
          "metadata": {
            "tags": []
          },
          "execution_count": 5
        }
      ]
    },
    {
      "cell_type": "markdown",
      "metadata": {
        "id": "PfqVWjWSp-lF"
      },
      "source": [
        "## Numba accelerator"
      ]
    },
    {
      "cell_type": "code",
      "metadata": {
        "id": "o8Bl_zJJp-lG"
      },
      "source": [
        "@njit(fastmath=True)\n",
        "def solve_1d_linearconv_numba(u, un, nt, nx, dt, dx, c):\n",
        "\n",
        "    for n in range(nt):\n",
        "        for i in range(nx):\n",
        "            un[i]=u[i]\n",
        "        for i in range(1,nx):\n",
        "            u[i]=un[i]-c*dt/dx*(un[i]-un[i-1])\n",
        "    #fill the update of u\n",
        "    return 0"
      ],
      "execution_count": null,
      "outputs": []
    },
    {
      "cell_type": "markdown",
      "metadata": {
        "id": "-6pn03-rp-lH"
      },
      "source": [
        "## Pyccel accelerator"
      ]
    },
    {
      "cell_type": "code",
      "metadata": {
        "id": "aTlni9KRp-lH"
      },
      "source": [
        "@types('float[:]', 'float[:]','int', 'int', 'float', 'float','int')\n",
        "def solve_1d_linearconv_pyccel(u, un, nt, nx, dt, dx, c):\n",
        "    for n in range(nt):\n",
        "        for i in range(nx):\n",
        "            un[i]=u[i]\n",
        "        for i in range(1,nx):\n",
        "            u[i]=un[i]-c*dt/dx*(un[i]-un[i-1])    \n",
        "    #fill the update of u\n",
        "    return 0"
      ],
      "execution_count": null,
      "outputs": []
    },
    {
      "cell_type": "markdown",
      "metadata": {
        "id": "Q-nGXMhvp-lI"
      },
      "source": [
        "## Inputs"
      ]
    },
    {
      "cell_type": "code",
      "metadata": {
        "colab": {
          "base_uri": "https://localhost:8080/",
          "height": 313
        },
        "id": "cvawYxhep-lJ",
        "outputId": "204bbab2-d80e-4317-d83f-86c08be41d76"
      },
      "source": [
        "nx = 201  # try changing this number from 41 to 81 and Run All ... what happens?\n",
        "dx = 2 / (nx-1)\n",
        "nt = 200    #nt is the number of timesteps we want to calculate\n",
        "c = 1      #assume wavespeed of c = 1\n",
        "dt = 0.004\n",
        "grid = np.linspace(0,2,nx) # creating the space grid    \n",
        "\n",
        "u0 = np.ones(nx)      #numpy function ones()\n",
        "u0[int(.5 / dx):int(1 / dx + 1)] = 2  #setting u = 2 between 0.5 and 1 as per our I.C.s\n",
        "plt.plot(grid,u0)\n",
        "u = u0.copy()\n",
        "un = np.ones(nx)\n",
        "solve_1d_linearconv_pyccel(u, un, nt, nx, dt, dx, c)\n",
        "#solve_1d_linearconv_pure(u, un, nt, nx, dt, dx, c)\n",
        "#Plotting data\n",
        "plt.plot(grid,u);\n",
        "plt.ylim([1.,2.2])\n",
        "plt.xlabel('X')\n",
        "plt.ylabel('Velocity')    \n",
        "plt.title('1D Linear Convection')"
      ],
      "execution_count": null,
      "outputs": [
        {
          "output_type": "execute_result",
          "data": {
            "text/plain": [
              "Text(0.5, 1.0, '1D Linear Convection')"
            ]
          },
          "metadata": {
            "tags": []
          },
          "execution_count": 8
        },
        {
          "output_type": "display_data",
          "data": {
            "image/png": "[encoded data removed]",
            "text/plain": [
              "<Figure size 432x288 with 1 Axes>"
            ]
          },
          "metadata": {
            "tags": [],
            "needs_background": "light"
          }
        }
      ]
    },
    {
      "cell_type": "markdown",
      "metadata": {
        "id": "GcO_NVyXp-lK"
      },
      "source": [
        "## Call Funtions"
      ]
    },
    {
      "cell_type": "markdown",
      "metadata": {
        "id": "XcyUgCBXp-lK"
      },
      "source": [
        "### Pure function"
      ]
    },
    {
      "cell_type": "code",
      "metadata": {
        "colab": {
          "base_uri": "https://localhost:8080/"
        },
        "id": "XdO3jTNRp-lL",
        "outputId": "03db9992-ddf1-4e0e-e630-6e5588dea84f"
      },
      "source": [
        "%timeit solve_1d_linearconv_pure(u, un, nt, nx, dt, dx, c)"
      ],
      "execution_count": null,
      "outputs": [
        {
          "output_type": "stream",
          "text": [
            "10 loops, best of 5: 45.7 ms per loop\n"
          ],
          "name": "stdout"
        }
      ]
    },
    {
      "cell_type": "markdown",
      "metadata": {
        "id": "JPelqY4zp-lM"
      },
      "source": [
        "### Function with numba accelerator"
      ]
    },
    {
      "cell_type": "code",
      "metadata": {
        "colab": {
          "base_uri": "https://localhost:8080/"
        },
        "id": "WMNsY1hPp-lN",
        "outputId": "e8a8bfe4-2a24-4248-bd46-d8c9f7de87aa"
      },
      "source": [
        "%timeit solve_1d_linearconv_numba(u, un, nt, nx, dt, dx, c)"
      ],
      "execution_count": null,
      "outputs": [
        {
          "output_type": "stream",
          "text": [
            "The slowest run took 48808.44 times longer than the fastest. This could mean that an intermediate result is being cached.\n",
            "1 loop, best of 5: 13.4 µs per loop\n"
          ],
          "name": "stdout"
        }
      ]
    },
    {
      "cell_type": "markdown",
      "metadata": {
        "id": "tz7j1VF-p-lN"
      },
      "source": [
        "### Function with pyccel accelerator"
      ]
    },
    {
      "cell_type": "code",
      "metadata": {
        "id": "6r69-iUXp-lO"
      },
      "source": [
        "solve_1d_linearconv_f90 = epyccel(solve_1d_linearconv_pyccel)"
      ],
      "execution_count": null,
      "outputs": []
    },
    {
      "cell_type": "code",
      "metadata": {
        "id": "hassGDlhqf3_"
      },
      "source": [
        "solve_1d_linearconv_f91 = epyccel(solve_1d_linearconv_pyccel,language='c')"
      ],
      "execution_count": null,
      "outputs": []
    },
    {
      "cell_type": "code",
      "metadata": {
        "colab": {
          "base_uri": "https://localhost:8080/"
        },
        "id": "0LNkIX7Rp-lP",
        "outputId": "600e59dc-3e48-4f30-8960-1389af7e9216"
      },
      "source": [
        "%timeit solve_1d_linearconv_f90(u, un, nt, nx, dt, dx, c)"
      ],
      "execution_count": null,
      "outputs": [
        {
          "output_type": "stream",
          "text": [
            "10000 loops, best of 5: 64.2 µs per loop\n"
          ],
          "name": "stdout"
        }
      ]
    },
    {
      "cell_type": "code",
      "metadata": {
        "id": "Zar4SNBmqkj6"
      },
      "source": [
        "solve_1d_linearconv_f91 = epyccel(solve_1d_linearconv_pyccel)"
      ],
      "execution_count": null,
      "outputs": []
    },
    {
      "cell_type": "code",
      "metadata": {
        "id": "63ABTJSIp-lP"
      },
      "source": [
        ""
      ],
      "execution_count": null,
      "outputs": []
    }
  ]
}