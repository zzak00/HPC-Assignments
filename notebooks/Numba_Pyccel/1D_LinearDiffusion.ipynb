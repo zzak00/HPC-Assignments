{
  "nbformat": 4,
  "nbformat_minor": 0,
  "metadata": {
    "kernelspec": {
      "display_name": "Python 3",
      "language": "python",
      "name": "python3"
    },
    "language_info": {
      "codemirror_mode": {
        "name": "ipython",
        "version": 3
      },
      "file_extension": ".py",
      "mimetype": "text/x-python",
      "name": "python",
      "nbconvert_exporter": "python",
      "pygments_lexer": "ipython3",
      "version": "3.7.4"
    },
    "colab": {
      "name": "1D_LinearDiffusion.ipynb",
      "provenance": [],
      "collapsed_sections": []
    }
  },
  "cells": [
    {
      "cell_type": "markdown",
      "metadata": {
        "id": "uPS_uv0c_cEV"
      },
      "source": [
        "## Imports"
      ]
    },
    {
      "cell_type": "code",
      "metadata": {
        "id": "OmZLsim9_cEc"
      },
      "source": [
        "import numpy as np\n",
        "import matplotlib.pyplot as plt\n",
        "from mpl_toolkits.mplot3d import Axes3D\n",
        "\n",
        "import time\n",
        "from numba import njit\n",
        "from pyccel.epyccel import epyccel\n",
        "from pyccel.decorators import types"
      ],
      "execution_count": null,
      "outputs": []
    },
    {
      "cell_type": "code",
      "metadata": {
        "colab": {
          "base_uri": "https://localhost:8080/"
        },
        "id": "53TrMFGVGvbD",
        "outputId": "ea83fee4-8d29-4a9b-95c7-28dde3b5eaff"
      },
      "source": [
        "!pip install pyccel==1.1.0"
      ],
      "execution_count": null,
      "outputs": [
        {
          "output_type": "stream",
          "text": [
            "Collecting pyccel==1.1.0\n",
            "\u001b[?25l  Downloading https://files.pythonhosted.org/packages/7e/8d/8986f5317f6c34671aef208b82c0e8b2a59387cede29f812dedd9f74bba6/pyccel-1.1.0-py3-none-any.whl (255kB)\n",
            "\u001b[K     |████████████████████████████████| 256kB 16.7MB/s \n",
            "\u001b[?25hRequirement already satisfied: termcolor in /usr/local/lib/python3.7/dist-packages (from pyccel==1.1.0) (1.1.0)\n",
            "Requirement already satisfied: numpy in /usr/local/lib/python3.7/dist-packages (from pyccel==1.1.0) (1.19.5)\n",
            "Collecting textx>=1.6\n",
            "\u001b[?25l  Downloading https://files.pythonhosted.org/packages/1e/4d/ca516d5600744166c3e1d2f8ff8d2483cda7193c37c534710cbe073c6d44/textX-2.3.0-py2.py3-none-any.whl (72kB)\n",
            "\u001b[K     |████████████████████████████████| 81kB 7.9MB/s \n",
            "\u001b[?25hRequirement already satisfied: sympy>=1.2 in /usr/local/lib/python3.7/dist-packages (from pyccel==1.1.0) (1.7.1)\n",
            "Collecting Arpeggio>=1.9.0\n",
            "\u001b[?25l  Downloading https://files.pythonhosted.org/packages/23/53/17533fe707ee55f562138bfa5255427fa44728f5764fd95cd122fe20346b/Arpeggio-1.10.1-py2.py3-none-any.whl (54kB)\n",
            "\u001b[K     |████████████████████████████████| 61kB 7.1MB/s \n",
            "\u001b[?25hRequirement already satisfied: mpmath>=0.19 in /usr/local/lib/python3.7/dist-packages (from sympy>=1.2->pyccel==1.1.0) (1.2.1)\n",
            "Installing collected packages: Arpeggio, textx, pyccel\n",
            "Successfully installed Arpeggio-1.10.1 pyccel-1.1.0 textx-2.3.0\n"
          ],
          "name": "stdout"
        }
      ]
    },
    {
      "cell_type": "markdown",
      "metadata": {
        "id": "1i2YHwnw_cEc"
      },
      "source": [
        "## Pure python function"
      ]
    },
    {
      "cell_type": "code",
      "metadata": {
        "id": "u_z5gfZH_cEd"
      },
      "source": [
        "def solve_1d_diff_pure(u, un, nt, nx, dt, dx, nu):\n",
        "    \n",
        "    un[:]=u[:]\n",
        "   \n",
        "    for i in range(nt):\n",
        "      for j in range(1,nx-1):\n",
        "        u[j]=un[j]+nu*dt/(dx**2)*(u[j+1]-2*u[j]+u[j-1])\n",
        "      un[:]=u[:]\n",
        "    \n",
        "    \n",
        "    return 0"
      ],
      "execution_count": null,
      "outputs": []
    },
    {
      "cell_type": "markdown",
      "metadata": {
        "id": "_1j0jdU5_cEd"
      },
      "source": [
        "## Numba accelerator"
      ]
    },
    {
      "cell_type": "code",
      "metadata": {
        "id": "Bz1EknVK_cEd"
      },
      "source": [
        "#add the numba decorator to accelerate code\n",
        "@njit(fastmath=True)\n",
        "def solve_1d_diff_numba(u, un, nt, nx, dt, dx, nu):\n",
        "    un[:]=u[:]\n",
        "   \n",
        "    for i in range(nt):\n",
        "      for j in range(1,nx-1):\n",
        "        u[j]=un[j]+nu*dt/(dx**2)*(u[j+1]-2*u[j]+u[j-1])\n",
        "      un[:]=u[:]\n",
        "    \n",
        "    \n",
        "    return 0"
      ],
      "execution_count": null,
      "outputs": []
    },
    {
      "cell_type": "markdown",
      "metadata": {
        "id": "zYQHp66L_cEe"
      },
      "source": [
        "## Pyccel accelerator"
      ]
    },
    {
      "cell_type": "code",
      "metadata": {
        "id": "RRufPx4R_cEe"
      },
      "source": [
        "#add the pyccel decorator to accelerate code\n",
        "@types('float[:]','float[:]','int','int','float','float','float')\n",
        "def solve_1d_diff_pyccel(u, un, nt, nx, dt, dx, nu):\n",
        "    un[:]=u[:]\n",
        "    #fill the update of u\n",
        "    for i in range(nt):\n",
        "      for j in range(1,nx-1):\n",
        "        u[j]=un[j]+nu*dt/(dx**2)*(u[j+1]-2*u[j]+u[j-1])\n",
        "      un[:]=u[:]\n",
        "    return 0"
      ],
      "execution_count": null,
      "outputs": []
    },
    {
      "cell_type": "markdown",
      "metadata": {
        "id": "KvbkaJhI_cEe"
      },
      "source": [
        "## Inputs"
      ]
    },
    {
      "cell_type": "code",
      "metadata": {
        "colab": {
          "base_uri": "https://localhost:8080/",
          "height": 313
        },
        "id": "Mt4m7Fm9_cEe",
        "outputId": "1ec26d32-be87-4a5a-abda-048753ef7480"
      },
      "source": [
        "nx = 501\n",
        "dx = 2 / (nx - 1)\n",
        "nt = 1500    #the number of timesteps we want to calculate\n",
        "nu = 0.3   #the value of viscosity\n",
        "CFL = .5 #sigma is a parameter, we'll learn more about it later\n",
        "dt = CFL * dx**2 / nu #dt is defined using sigma ... more later!\n",
        "grid = np.linspace(0,2,nx) # creating the space grid\n",
        "\n",
        "u0 = np.ones(nx)      #a numpy array with nx elements all equal to 1.\n",
        "u0[int(.5 / dx):int(1 / dx + 1)] = 2  #setting u = 2 between 0.5 and 1 as per our I.C.s\n",
        "plt.plot(grid,u0);\n",
        "u = u0.copy()\n",
        "un = np.ones(nx) #our placeholder array, un, to advance the solution in time\n",
        "\n",
        "solve_1d_diff_pure(u, un, nt, nx, dt, dx, nu)\n",
        "#Plotting data\n",
        "plt.plot(grid,u);\n",
        "plt.ylim([1.,2.2])\n",
        "plt.xlabel('X')\n",
        "plt.ylabel('Velocity')    \n",
        "plt.title('1D Diffusion') "
      ],
      "execution_count": null,
      "outputs": [
        {
          "output_type": "execute_result",
          "data": {
            "text/plain": [
              "Text(0.5, 1.0, '1D Diffusion')"
            ]
          },
          "metadata": {
            "tags": []
          },
          "execution_count": 16
        },
        {
          "output_type": "display_data",
          "data": {
            "image/png": "[encoded data removed]",
            "text/plain": [
              "<Figure size 432x288 with 1 Axes>"
            ]
          },
          "metadata": {
            "tags": [],
            "needs_background": "light"
          }
        }
      ]
    },
    {
      "cell_type": "markdown",
      "metadata": {
        "id": "VtfCo4HM_cEf"
      },
      "source": [
        "## Call Funtions"
      ]
    },
    {
      "cell_type": "markdown",
      "metadata": {
        "id": "tBqj67Un_cEg"
      },
      "source": [
        "### Pure function"
      ]
    },
    {
      "cell_type": "code",
      "metadata": {
        "colab": {
          "base_uri": "https://localhost:8080/"
        },
        "id": "AKc4cBHB_cEg",
        "outputId": "d164cdb0-e9ba-4333-9f43-49bfcd01a26a"
      },
      "source": [
        "%timeit solve_1d_diff_pure(u, un, nt, nx, dt, dx, nu)"
      ],
      "execution_count": null,
      "outputs": [
        {
          "output_type": "stream",
          "text": [
            "1 loop, best of 5: 1.14 s per loop\n"
          ],
          "name": "stdout"
        }
      ]
    },
    {
      "cell_type": "markdown",
      "metadata": {
        "id": "I12AB47o_cEg"
      },
      "source": [
        "### Function with numba accelerator"
      ]
    },
    {
      "cell_type": "code",
      "metadata": {
        "colab": {
          "base_uri": "https://localhost:8080/"
        },
        "id": "f2bYly4i_cEh",
        "outputId": "16dcfe99-f42a-4805-ecd9-c9ec3bc2a969"
      },
      "source": [
        "%timeit solve_1d_diff_numba(u, un, nt, nx, dt, dx, nu)"
      ],
      "execution_count": null,
      "outputs": [
        {
          "output_type": "stream",
          "text": [
            "The slowest run took 139.65 times longer than the fastest. This could mean that an intermediate result is being cached.\n",
            "1 loop, best of 5: 5.09 ms per loop\n"
          ],
          "name": "stdout"
        }
      ]
    },
    {
      "cell_type": "markdown",
      "metadata": {
        "id": "AjM2TZo1_cEh"
      },
      "source": [
        "### Function with pyccel accelerator"
      ]
    },
    {
      "cell_type": "code",
      "metadata": {
        "id": "YEpve3Ag_cEi"
      },
      "source": [
        "solve_1d_diff_f90 = epyccel(solve_1d_diff_pyccel)"
      ],
      "execution_count": null,
      "outputs": []
    },
    {
      "cell_type": "code",
      "metadata": {
        "colab": {
          "base_uri": "https://localhost:8080/"
        },
        "id": "ELbmTenp_cEi",
        "outputId": "a2ec694c-44e9-4ba6-9615-85eb60c45bf5"
      },
      "source": [
        "%timeit solve_1d_diff_f90(u, un, nt, nx, dt, dx, nu)"
      ],
      "execution_count": null,
      "outputs": [
        {
          "output_type": "stream",
          "text": [
            "100 loops, best of 5: 5.26 ms per loop\n"
          ],
          "name": "stdout"
        }
      ]
    },
    {
      "cell_type": "code",
      "metadata": {
        "id": "NbvWC1ojG34c"
      },
      "source": [
        ""
      ],
      "execution_count": null,
      "outputs": []
    }
  ]
}