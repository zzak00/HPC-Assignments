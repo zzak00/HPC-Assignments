{
  "nbformat": 4,
  "nbformat_minor": 0,
  "metadata": {
    "kernelspec": {
      "display_name": "Python 3",
      "language": "python",
      "name": "python3"
    },
    "language_info": {
      "codemirror_mode": {
        "name": "ipython",
        "version": 3
      },
      "file_extension": ".py",
      "mimetype": "text/x-python",
      "name": "python",
      "nbconvert_exporter": "python",
      "pygments_lexer": "ipython3",
      "version": "3.7.4"
    },
    "colab": {
      "name": "1D_LinearConvectionCFL.ipynb",
      "provenance": [],
      "collapsed_sections": []
    }
  },
  "cells": [
    {
      "cell_type": "markdown",
      "metadata": {
        "id": "kb0wW1GssHXR"
      },
      "source": [
        "## Imports"
      ]
    },
    {
      "cell_type": "code",
      "metadata": {
        "id": "JP3ulszysHXa"
      },
      "source": [
        "import numpy as np\n",
        "import matplotlib.pyplot as plt\n",
        "from mpl_toolkits.mplot3d import Axes3D\n",
        "\n",
        "import time\n",
        "from numba import njit\n",
        "from pyccel.epyccel import epyccel\n",
        "from pyccel.decorators import types\n",
        "\n",
        "#fill the imports"
      ],
      "execution_count": null,
      "outputs": []
    },
    {
      "cell_type": "code",
      "metadata": {
        "colab": {
          "base_uri": "https://localhost:8080/"
        },
        "id": "ejPswNiQsquS",
        "outputId": "2cd40d9b-74b0-4d6b-d680-c2ed3955fab6"
      },
      "source": [
        "!pip install pyccel==1.1.0"
      ],
      "execution_count": null,
      "outputs": [
        {
          "output_type": "stream",
          "text": [
            "Collecting pyccel==1.1.0\n",
            "\u001b[?25l  Downloading https://files.pythonhosted.org/packages/7e/8d/8986f5317f6c34671aef208b82c0e8b2a59387cede29f812dedd9f74bba6/pyccel-1.1.0-py3-none-any.whl (255kB)\n",
            "\u001b[K     |████████████████████████████████| 256kB 5.4MB/s \n",
            "\u001b[?25hRequirement already satisfied: numpy in /usr/local/lib/python3.7/dist-packages (from pyccel==1.1.0) (1.19.5)\n",
            "Collecting textx>=1.6\n",
            "\u001b[?25l  Downloading https://files.pythonhosted.org/packages/1e/4d/ca516d5600744166c3e1d2f8ff8d2483cda7193c37c534710cbe073c6d44/textX-2.3.0-py2.py3-none-any.whl (72kB)\n",
            "\u001b[K     |████████████████████████████████| 81kB 5.0MB/s \n",
            "\u001b[?25hRequirement already satisfied: termcolor in /usr/local/lib/python3.7/dist-packages (from pyccel==1.1.0) (1.1.0)\n",
            "Requirement already satisfied: sympy>=1.2 in /usr/local/lib/python3.7/dist-packages (from pyccel==1.1.0) (1.7.1)\n",
            "Collecting Arpeggio>=1.9.0\n",
            "\u001b[?25l  Downloading https://files.pythonhosted.org/packages/23/53/17533fe707ee55f562138bfa5255427fa44728f5764fd95cd122fe20346b/Arpeggio-1.10.1-py2.py3-none-any.whl (54kB)\n",
            "\u001b[K     |████████████████████████████████| 61kB 3.7MB/s \n",
            "\u001b[?25hRequirement already satisfied: mpmath>=0.19 in /usr/local/lib/python3.7/dist-packages (from sympy>=1.2->pyccel==1.1.0) (1.2.1)\n",
            "Installing collected packages: Arpeggio, textx, pyccel\n",
            "Successfully installed Arpeggio-1.10.1 pyccel-1.1.0 textx-2.3.0\n"
          ],
          "name": "stdout"
        }
      ]
    },
    {
      "cell_type": "markdown",
      "metadata": {
        "id": "ZioTLHqdsHXb"
      },
      "source": [
        "## Linear convection without CFL"
      ]
    },
    {
      "cell_type": "code",
      "metadata": {
        "id": "8sOs3KmfsHXc"
      },
      "source": [
        "def linearconv_withoutCFL(u, nx, nt, dx):\n",
        "    dt = .025  \n",
        "    c = 1.\n",
        "    \n",
        "    un=np.copy(u)\n",
        "    for n in range(nt):\n",
        "        for i in range(nx):\n",
        "            un[i]=u[i]\n",
        "        for i in range(1,nx):\n",
        "            u[i]=un[i]-c*dt/dx*(un[i]-un[i-1])\n",
        "    #fill the update of u\n",
        "    return 0"
      ],
      "execution_count": null,
      "outputs": []
    },
    {
      "cell_type": "markdown",
      "metadata": {
        "id": "uEXCDcN1sHXc"
      },
      "source": [
        "## Linear convection with CFL"
      ]
    },
    {
      "cell_type": "code",
      "metadata": {
        "id": "0KYVq08ysHXd"
      },
      "source": [
        "def linearconv_withCFL(u, nx, nt, dx):\n",
        "    c = 1.\n",
        "    CFL = 0.8\n",
        "    dt = CFL*dx/np.fabs(c) \n",
        "    un=np.copy(u)\n",
        "    #fill the update of u\n",
        "    for n in range(nt):\n",
        "        for i in range(nx):\n",
        "            un[i]=u[i]\n",
        "        for i in range(1,nx):\n",
        "            u[i]=un[i]-c*dt/dx*(un[i]-un[i-1])\n",
        "    #fill the update of u\n",
        "       \n",
        "    return 0"
      ],
      "execution_count": null,
      "outputs": []
    },
    {
      "cell_type": "markdown",
      "metadata": {
        "id": "c3QpOaU4sHXd"
      },
      "source": [
        "## Inputs"
      ]
    },
    {
      "cell_type": "code",
      "metadata": {
        "id": "7-mPt9JdsHXd"
      },
      "source": [
        "nx = 81 #change to 83, 85, 91, ... what do you remark ?\n",
        "dx = 2 / (nx - 1)\n",
        "nt = 20    \n",
        "\n",
        "grid = np.linspace(0,2,nx) \n",
        "u0 = np.ones(nx)      \n",
        "u0[int(.5/dx):int(1 / dx + 1)] = 2  "
      ],
      "execution_count": null,
      "outputs": []
    },
    {
      "cell_type": "markdown",
      "metadata": {
        "id": "opw5ixkIsHXe"
      },
      "source": [
        "## Call Funtions"
      ]
    },
    {
      "cell_type": "markdown",
      "metadata": {
        "id": "kasvFktAsHXe"
      },
      "source": [
        "### Function without CFL"
      ]
    },
    {
      "cell_type": "code",
      "metadata": {
        "colab": {
          "base_uri": "https://localhost:8080/",
          "height": 313
        },
        "id": "wO8oiWNmsHXf",
        "outputId": "887b1ec7-f508-4608-8c20-7a1898604080"
      },
      "source": [
        "u = u0.copy()\n",
        "linearconv_withoutCFL(u, nx, nt, dx)\n",
        "\n",
        "plt.plot(grid,u0);\n",
        "plt.plot(grid,u);\n",
        "plt.ylim([1.,2.2])\n",
        "plt.xlabel('X')\n",
        "plt.ylabel('Velocity')    \n",
        "plt.title('1D Linear Convection')  "
      ],
      "execution_count": null,
      "outputs": [
        {
          "output_type": "execute_result",
          "data": {
            "text/plain": [
              "Text(0.5, 1.0, '1D Linear Convection')"
            ]
          },
          "metadata": {
            "tags": []
          },
          "execution_count": 20
        },
        {
          "output_type": "display_data",
          "data": {
            "image/png": "[encoded data removed]",
            "text/plain": [
              "<Figure size 432x288 with 1 Axes>"
            ]
          },
          "metadata": {
            "tags": [],
            "needs_background": "light"
          }
        }
      ]
    },
    {
      "cell_type": "markdown",
      "metadata": {
        "id": "h6FpHMPTsHXg"
      },
      "source": [
        "### Function with CFL"
      ]
    },
    {
      "cell_type": "code",
      "metadata": {
        "colab": {
          "base_uri": "https://localhost:8080/",
          "height": 313
        },
        "id": "znCx02ZTsHXh",
        "outputId": "ad45e1ab-ffba-4f83-feaa-005436288700"
      },
      "source": [
        "u = u0.copy()\n",
        "linearconv_withCFL(u, nx, nt, dx)\n",
        "\n",
        "plt.plot(grid,u0);\n",
        "plt.plot(grid,u);\n",
        "plt.ylim([1.,2.2])\n",
        "plt.xlabel('X')\n",
        "plt.ylabel('Velocity')    \n",
        "plt.title('1D Linear Convection') "
      ],
      "execution_count": null,
      "outputs": [
        {
          "output_type": "execute_result",
          "data": {
            "text/plain": [
              "Text(0.5, 1.0, '1D Linear Convection')"
            ]
          },
          "metadata": {
            "tags": []
          },
          "execution_count": 21
        },
        {
          "output_type": "display_data",
          "data": {
            "image/png": "[encoded data removed]",
            "text/plain": [
              "<Figure size 432x288 with 1 Axes>"
            ]
          },
          "metadata": {
            "tags": [],
            "needs_background": "light"
          }
        }
      ]
    },
    {
      "cell_type": "code",
      "metadata": {
        "id": "jqUNQVcFtQNU"
      },
      "source": [
        ""
      ],
      "execution_count": null,
      "outputs": []
    }
  ]
}