{
  "nbformat": 4,
  "nbformat_minor": 0,
  "metadata": {
    "kernelspec": {
      "display_name": "Python 3",
      "language": "python",
      "name": "python3"
    },
    "language_info": {
      "codemirror_mode": {
        "name": "ipython",
        "version": 3
      },
      "file_extension": ".py",
      "mimetype": "text/x-python",
      "name": "python",
      "nbconvert_exporter": "python",
      "pygments_lexer": "ipython3",
      "version": "3.7.6"
    },
    "colab": {
      "name": "1D_Burger.ipynb",
      "provenance": [],
      "collapsed_sections": []
    }
  },
  "cells": [
    {
      "cell_type": "markdown",
      "metadata": {
        "id": "wiSc7EXgK8F1"
      },
      "source": [
        "## Imports"
      ]
    },
    {
      "cell_type": "code",
      "metadata": {
        "id": "p621I1gPK8F7"
      },
      "source": [
        "import numpy as np\n",
        "import sympy as sp\n",
        "from sympy.utilities.lambdify import lambdify\n",
        "\n",
        "from sympy import init_printing\n",
        "init_printing(use_latex=True)\n",
        "import matplotlib.pyplot as plt\n",
        "import numpy as np\n",
        "import matplotlib.pyplot as plt\n",
        "from mpl_toolkits.mplot3d import Axes3D\n",
        "\n",
        "import time\n",
        "from numba import njit\n",
        "from pyccel.epyccel import epyccel\n",
        "from pyccel.decorators import types\n",
        "#fill the libraries import\n",
        "#..."
      ],
      "execution_count": null,
      "outputs": []
    },
    {
      "cell_type": "code",
      "metadata": {
        "colab": {
          "base_uri": "https://localhost:8080/"
        },
        "id": "lR835ZH5K-vW",
        "outputId": "385b0507-5eb5-4973-87dc-cd622105b230"
      },
      "source": [
        "!pip install pyccel==1.1.0"
      ],
      "execution_count": null,
      "outputs": [
        {
          "output_type": "stream",
          "text": [
            "Collecting pyccel==1.1.0\n",
            "\u001b[?25l  Downloading https://files.pythonhosted.org/packages/7e/8d/8986f5317f6c34671aef208b82c0e8b2a59387cede29f812dedd9f74bba6/pyccel-1.1.0-py3-none-any.whl (255kB)\n",
            "\u001b[K     |████████████████████████████████| 256kB 8.7MB/s \n",
            "\u001b[?25hCollecting textx>=1.6\n",
            "\u001b[?25l  Downloading https://files.pythonhosted.org/packages/1e/4d/ca516d5600744166c3e1d2f8ff8d2483cda7193c37c534710cbe073c6d44/textX-2.3.0-py2.py3-none-any.whl (72kB)\n",
            "\u001b[K     |████████████████████████████████| 81kB 7.2MB/s \n",
            "\u001b[?25hRequirement already satisfied: sympy>=1.2 in /usr/local/lib/python3.7/dist-packages (from pyccel==1.1.0) (1.7.1)\n",
            "Requirement already satisfied: termcolor in /usr/local/lib/python3.7/dist-packages (from pyccel==1.1.0) (1.1.0)\n",
            "Requirement already satisfied: numpy in /usr/local/lib/python3.7/dist-packages (from pyccel==1.1.0) (1.19.5)\n",
            "Collecting Arpeggio>=1.9.0\n",
            "\u001b[?25l  Downloading https://files.pythonhosted.org/packages/23/53/17533fe707ee55f562138bfa5255427fa44728f5764fd95cd122fe20346b/Arpeggio-1.10.1-py2.py3-none-any.whl (54kB)\n",
            "\u001b[K     |████████████████████████████████| 61kB 6.5MB/s \n",
            "\u001b[?25hRequirement already satisfied: mpmath>=0.19 in /usr/local/lib/python3.7/dist-packages (from sympy>=1.2->pyccel==1.1.0) (1.2.1)\n",
            "Installing collected packages: Arpeggio, textx, pyccel\n",
            "Successfully installed Arpeggio-1.10.1 pyccel-1.1.0 textx-2.3.0\n"
          ],
          "name": "stdout"
        }
      ]
    },
    {
      "cell_type": "markdown",
      "metadata": {
        "id": "SNKPzk8oK8F8"
      },
      "source": [
        "## Pure python function"
      ]
    },
    {
      "cell_type": "code",
      "metadata": {
        "id": "S7b4vM4rK8F8"
      },
      "source": [
        "def solve_1d_burger_pure(u, un, nt, nx, dt, dx, nu):\n",
        "    #fill the update of u\n",
        "    #...\n",
        "  for n in range(nt):\n",
        "    un[:]=u[:]\n",
        "    for i in range(1,nx-1):\n",
        "      u[i]=un[i]-un[i]*dt/dx*(un[i]-un[i-1])+nu*dt/dx**2*(un[i+1]-2*un[i]+un[i-1])\n",
        "    u[0]=un[0]-un[0]*dt/dx*(un[0]-un[-1])+nu*dt/dx**2*(un[1]-2*un[0]+un[-1])\n",
        "    u[-1]=u[0]\n",
        "  return 0"
      ],
      "execution_count": null,
      "outputs": []
    },
    {
      "cell_type": "markdown",
      "metadata": {
        "id": "JPU_qw_nK8F9"
      },
      "source": [
        "## Numba accelerator"
      ]
    },
    {
      "cell_type": "code",
      "metadata": {
        "id": "2cVYBDJ2K8F9"
      },
      "source": [
        "#add the numba decorator to accelerate code\n",
        "@njit(fastmath=True)\n",
        "def solve_1d_burger_numba(u, un, nt, nx, dt, dx, nu):\n",
        "    #fill the update of u\n",
        "    #...\n",
        "  for n in range(nt):\n",
        "    un[:]=u[:]\n",
        "    for i in range(1,nx-1):\n",
        "      u[i]=un[i]-un[i]*dt/dx*(un[i]-un[i-1])+nu*dt/dx**2*(un[i+1]-2*un[i]+un[i-1])\n",
        "    u[0]=un[0]-un[0]*dt/dx*(un[0]-un[-1])+nu*dt/dx**2*(un[1]-2*un[0]+un[-1])\n",
        "    u[-1]=u[0]        \n",
        "    return 0"
      ],
      "execution_count": null,
      "outputs": []
    },
    {
      "cell_type": "markdown",
      "metadata": {
        "id": "rxYYYVMkK8F9"
      },
      "source": [
        "## Pyccel accelerator"
      ]
    },
    {
      "cell_type": "code",
      "metadata": {
        "id": "1cFzEarlK8F-"
      },
      "source": [
        "#add the pyccel decorator to accelerate code\n",
        "@types('float[:]', 'float[:]','int', 'int', 'float', 'float','float')\n",
        "def solve_1d_burger_pyccel(u, un, nt, nx, dt, dx, nu):\n",
        "  for n in range(nt):\n",
        "    un[:]=u[:]\n",
        "    for i in range(1,nx-1):\n",
        "      u[i]=un[i]-un[i]*dt/dx*(un[i]-un[i-1])+nu*dt/dx**2*(un[i+1]-2*un[i]+un[i-1])\n",
        "    u[0]=un[0]-un[0]*dt/dx*(un[0]-un[-1])+nu*dt/dx**2*(un[1]-2*un[0]+un[-1])\n",
        "    u[-1]=u[0]\n",
        "    return 0"
      ],
      "execution_count": null,
      "outputs": []
    },
    {
      "cell_type": "markdown",
      "metadata": {
        "id": "XUKunIXmK8F-"
      },
      "source": [
        "## Inputs"
      ]
    },
    {
      "cell_type": "code",
      "metadata": {
        "id": "zSqmeln8K8F-"
      },
      "source": [
        "#sympy computation\n",
        "x, nu, t = sp.symbols('x nu t')\n",
        "phi = (sp.exp(-(x - 4 * t)**2 / (4 * nu * (t + 1))) +\n",
        "       sp.exp(-(x - 4 * t - 2 * sp.pi)**2 / (4 * nu * (t + 1))))\n",
        "\n",
        "phiprime = phi.diff(x)\n",
        "u = -2 * nu * (phiprime / phi) + 4\n",
        "ufunc = lambdify((t, x, nu), u)"
      ],
      "execution_count": null,
      "outputs": []
    },
    {
      "cell_type": "code",
      "metadata": {
        "id": "Il5anrSJK8F_"
      },
      "source": [
        "###variable declarations\n",
        "nx = 201\n",
        "nt = 100\n",
        "dx = 2 * np.pi / (nx - 1)\n",
        "nu = .07\n",
        "dt = dx * nu\n",
        "\n",
        "x = np.linspace(0, 2 * np.pi, nx)\n",
        "un = np.empty(nx)\n",
        "t = 0"
      ],
      "execution_count": null,
      "outputs": []
    },
    {
      "cell_type": "markdown",
      "metadata": {
        "id": "g3RH7tD1K8F_"
      },
      "source": [
        "## Plot initial condition"
      ]
    },
    {
      "cell_type": "code",
      "metadata": {
        "colab": {
          "base_uri": "https://localhost:8080/",
          "height": 269
        },
        "id": "NCqxCxB6K8F_",
        "outputId": "516ce64e-f299-40d7-9894-153865180ccb"
      },
      "source": [
        "u = np.asarray([ufunc(t, x0, nu) for x0 in x])\n",
        "plt.figure()\n",
        "plt.plot(x, u, marker='o', lw=2)\n",
        "plt.xlim([0, 2 * np.pi])\n",
        "plt.ylim([0, 10]);"
      ],
      "execution_count": null,
      "outputs": [
        {
          "output_type": "display_data",
          "data": {
            "image/png": "[encoded data removed]",
            "text/plain": [
              "<Figure size 432x288 with 1 Axes>"
            ]
          },
          "metadata": {
            "tags": [],
            "needs_background": "light"
          }
        }
      ]
    },
    {
      "cell_type": "code",
      "metadata": {
        "colab": {
          "base_uri": "https://localhost:8080/",
          "height": 269
        },
        "id": "LvOZNvcDK8GB",
        "outputId": "4f295d6e-727f-457f-8cf5-81c8359a0125"
      },
      "source": [
        "solve_1d_burger_pure(u, un, nt, nx, dt, dx, nu)\n",
        "\n",
        "# Analytical solution\n",
        "u_analytical = np.asarray([ufunc(nt * dt, xi, nu) for xi in x])\n",
        "\n",
        "\n",
        "#Plotting data\n",
        "plt.figure()\n",
        "plt.plot(x,u, marker='o', lw=2, label='Computational')\n",
        "plt.plot(x, u_analytical, label='Analytical')\n",
        "plt.xlim([0, 2 * np.pi])\n",
        "plt.ylim([0, 10])\n",
        "plt.legend();"
      ],
      "execution_count": null,
      "outputs": [
        {
          "output_type": "display_data",
          "data": {
            "image/png": "[encoded data removed]",
            "text/plain": [
              "<Figure size 432x288 with 1 Axes>"
            ]
          },
          "metadata": {
            "tags": [],
            "needs_background": "light"
          }
        }
      ]
    },
    {
      "cell_type": "markdown",
      "metadata": {
        "id": "MJTbPILZK8GB"
      },
      "source": [
        "## Call Funtions"
      ]
    },
    {
      "cell_type": "markdown",
      "metadata": {
        "id": "s71VTnu9K8GB"
      },
      "source": [
        "### Pure function"
      ]
    },
    {
      "cell_type": "code",
      "metadata": {
        "colab": {
          "base_uri": "https://localhost:8080/"
        },
        "id": "Nx1yqhPrK8GB",
        "outputId": "09b81a00-8ef5-41ea-c32c-265018c21795"
      },
      "source": [
        "%timeit solve_1d_burger_pure(u, un, nt, nx, dt, dx, nu)"
      ],
      "execution_count": null,
      "outputs": [
        {
          "output_type": "stream",
          "text": [
            "10 loops, best of 5: 53.3 ms per loop\n"
          ],
          "name": "stdout"
        }
      ]
    },
    {
      "cell_type": "markdown",
      "metadata": {
        "id": "0fQ_2LcqK8GC"
      },
      "source": [
        "### Function with numba accelerator"
      ]
    },
    {
      "cell_type": "code",
      "metadata": {
        "colab": {
          "base_uri": "https://localhost:8080/"
        },
        "id": "mgous93EK8GC",
        "outputId": "e1f53f1f-7e81-445d-88cc-c3155e90e372"
      },
      "source": [
        "%timeit solve_1d_burger_numba(u, un, nt, nx, dt, dx, nu)"
      ],
      "execution_count": null,
      "outputs": [
        {
          "output_type": "stream",
          "text": [
            "The slowest run took 428406.72 times longer than the fastest. This could mean that an intermediate result is being cached.\n",
            "1 loop, best of 5: 1.39 µs per loop\n"
          ],
          "name": "stdout"
        }
      ]
    },
    {
      "cell_type": "markdown",
      "metadata": {
        "id": "CZlo2BbZK8GC"
      },
      "source": [
        "### Function with pyccel accelerator"
      ]
    },
    {
      "cell_type": "code",
      "metadata": {
        "colab": {
          "base_uri": "https://localhost:8080/"
        },
        "id": "7jJ-Rc-ZK8GC",
        "outputId": "ef016ee3-d65a-48a6-c5d8-e53aec0ac893"
      },
      "source": [
        "solve_1d_burger_f90 = epyccel(solve_1d_burger_pyccel)\n",
        "%timeit solve_1d_burger_f90(u, un, nt, nx, dt, dx, nu)"
      ],
      "execution_count": null,
      "outputs": [
        {
          "output_type": "stream",
          "text": [
            "The slowest run took 11.01 times longer than the fastest. This could mean that an intermediate result is being cached.\n",
            "1000000 loops, best of 5: 799 ns per loop\n"
          ],
          "name": "stdout"
        }
      ]
    },
    {
      "cell_type": "code",
      "metadata": {
        "id": "zytYHZSfO0nr"
      },
      "source": [
        ""
      ],
      "execution_count": null,
      "outputs": []
    }
  ]
}