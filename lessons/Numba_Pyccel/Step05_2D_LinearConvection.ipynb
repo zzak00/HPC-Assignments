{
 "cells": [
  {
   "cell_type": "markdown",
   "metadata": {},
   "source": [
    "Up to now, all of our work has been in one spatial dimension (Steps [1](./Step01_1D_LinearConvection.ipynb) to [4](./Step04_1D_Burger.ipynb)). We can learn a lot in just 1D, but let's grow up to flatland: two dimensions. \n",
    "\n",
    "In the following exercises, you will extend the first four steps to 2D. To extend the 1D finite-difference formulas to partial derivatives in 2D or 3D, just apply the definition: a partial derivative with respect to $x$ is the variation in the $x$ direction *at constant* $y$.\n",
    "\n",
    "In 2D space, a rectangular (uniform) grid is defined by the points with coordinates:\n",
    "\n",
    "$$x_i = x_0 +i \\Delta x$$\n",
    "\n",
    "$$y_i = y_0 +i \\Delta y$$\n",
    "\n",
    "Now, define $u_{i,j} = u(x_i,y_j)$ and apply the finite-difference formulas on either variable $x,y$ *acting separately* on the $i$ and $j$ indices. All derivatives are based on the 2D Taylor expansion of a mesh point value around $u_{i,j}$.\n",
    "\n",
    "Hence, for a first-order partial derivative in the $x$-direction, a finite-difference formula is:\n",
    "\n",
    "$$ \\frac{\\partial u}{\\partial x}\\biggr\\rvert_{i,j} = \\frac{u_{i+1,j}-u_{i,j}}{\\Delta x}+\\mathcal{O}(\\Delta x)$$\n",
    "\n",
    "and similarly in the $y$ direction. Thus, we can write backward-difference, forward-difference or central-difference formulas for Steps 5 to 12. Let's get started!"
   ]
  },
  {
   "cell_type": "markdown",
   "metadata": {},
   "source": [
    "Step 5 : 2-D Linear Convection\n",
    "----\n",
    "***"
   ]
  },
  {
   "cell_type": "markdown",
   "metadata": {},
   "source": [
    "The PDE governing 2-D Linear Convection is written as\n",
    "\n",
    "$$\\frac{\\partial u}{\\partial t}+c\\frac{\\partial u}{\\partial x} + c\\frac{\\partial u}{\\partial y} = 0$$\n",
    "\n",
    "This is the exact same form as with 1-D Linear Convection, except that we now have two spatial dimensions to account for as we step forward in time.  \n",
    "\n",
    "Again, the timestep will be discretized as a forward difference and both spatial steps will be discretized as backward differences.  \n",
    "\n",
    "With 1-D implementations, we used $i$ subscripts to denote movement in space (e.g. $u_{i}^n-u_{i-1}^n$).  Now that we have two dimensions to account for, we need to add a second subscript, $j$, to account for all the information in the regime.  \n",
    "\n",
    "Here, we'll again use $i$ as the index for our $x$ values, and we'll add the $j$ subscript to track our $y$ values.  "
   ]
  },
  {
   "cell_type": "markdown",
   "metadata": {},
   "source": [
    "With that in mind, our discretization of the PDE should be relatively straightforward.  \n",
    "\n",
    "$$\\frac{u_{i,j}^{n+1}-u_{i,j}^n}{\\Delta t} + c\\frac{u_{i, j}^n-u_{i-1,j}^n}{\\Delta x} + c\\frac{u_{i,j}^n-u_{i,j-1}^n}{\\Delta y}=0$$\n",
    "\n",
    "As before, solve for the only unknown:\n",
    "\n",
    "$$u_{i,j}^{n+1} = u_{i,j}^n-c \\frac{\\Delta t}{\\Delta x}(u_{i,j}^n-u_{i-1,j}^n)-c \\frac{\\Delta t}{\\Delta y}(u_{i,j}^n-u_{i,j-1}^n)$$\n",
    "\n",
    "We will solve this equation with the following initial conditions:\n",
    "\n",
    "$$u(x,y) = \\begin{cases}\n",
    "\\begin{matrix}\n",
    "2\\ \\text{for} & 0.5 \\leq x, y \\leq 1 \\cr\n",
    "1\\ \\text{for} & \\text{everywhere else}\\end{matrix}\\end{cases}$$\n",
    "\n",
    "and boundary conditions:\n",
    "\n",
    "$$u = 1\\ \\text{for } \\begin{cases}\n",
    "\\begin{matrix}\n",
    "x =  0,\\ 2 \\cr\n",
    "y =  0,\\ 2 \\end{matrix}\\end{cases}$$"
   ]
  }
 ],
 "metadata": {
  "kernelspec": {
   "display_name": "Python 3",
   "language": "python",
   "name": "python3"
  },
  "language_info": {
   "codemirror_mode": {
    "name": "ipython",
    "version": 3
   },
   "file_extension": ".py",
   "mimetype": "text/x-python",
   "name": "python",
   "nbconvert_exporter": "python",
   "pygments_lexer": "ipython3",
   "version": "3.7.4"
  }
 },
 "nbformat": 4,
 "nbformat_minor": 2
}
